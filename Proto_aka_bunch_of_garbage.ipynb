{
 "cells": [
  {
   "cell_type": "code",
   "execution_count": 1,
   "metadata": {},
   "outputs": [],
   "source": [
    "%matplotlib inline\n",
    "import matplotlib.pyplot as plt\n",
    "import seaborn as sns; sns.set()  # for plot styling\n",
    "import numpy as np\n",
    "import pandas as pd"
   ]
  },
  {
   "cell_type": "markdown",
   "metadata": {},
   "source": [
    "# Training dataset importing"
   ]
  },
  {
   "cell_type": "code",
   "execution_count": 6,
   "metadata": {},
   "outputs": [
    {
     "name": "stdout",
     "output_type": "stream",
     "text": [
      "                                         id source  \\\n",
      "0  78dd3665b49b53dcfc5a568d6c662fc6ffadaedf    CNN   \n",
      "1  7872802b5377b47f24d3f73c5fbb956c7f5b11ba    CNN   \n",
      "2  d915e41e47a169937311e8a94e4933b5fcf879ce    CNN   \n",
      "3  4d6b91f927d98511f4bc940d35b9c68ab1e34e43    CNN   \n",
      "4  d49279f38b434483267fe46354d55f4d296576a5    CNN   \n",
      "\n",
      "                                                text  \\\n",
      "0  (CNN) -- Most have likely heard the broad outl...   \n",
      "1  (CNN) -- Nicki Minaj isn't feeling welcomed at...   \n",
      "2  (CNN) -- He played the ukelele, weighed in on ...   \n",
      "3  (CNN) -- CNN Hero Wilma Melville is helping re...   \n",
      "4  Islamabad, Pakistan (CNN) -- Embattled Pakista...   \n",
      "\n",
      "                                           embedding  \n",
      "0  [0.998444139957428, -0.8373915553092957, 0.986...  \n",
      "1  [0.7481085658073425, -0.7000635266304016, 0.99...  \n",
      "2  [-0.7953892350196838, -0.9981173276901245, 0.9...  \n",
      "3  [-0.13724015653133392, -0.3098432421684265, 0....  \n",
      "4  [0.6646730303764343, -0.8491336703300476, -0.9...  \n",
      "                id source                                               text  \\\n",
      "0  XA1C6D6B906412C    IRS  WASHINGTON — The Internal Revenue Service, in ...   \n",
      "1  X76498E20C0D372    IRS  WASHINGTON — The Treasury Department and the I...   \n",
      "2  X8F6AE5407A8934    IRS  WASHINGTON — The IRS issued a notice today ann...   \n",
      "3  X3776BE87ACA078    IRS  WASHINGTON — The Internal Revenue Service anno...   \n",
      "4  XDEB2C3D167A879    IRS  WASHINGTON — The Internal Revenue Service toda...   \n",
      "\n",
      "                                          embeddings  \n",
      "0  [0.8838802576065063, -0.8559637069702148, 0.13...  \n",
      "1  [0.9607170820236206, -0.9918044805526733, -0.8...  \n",
      "2  [0.975862979888916, 0.5277954339981079, -0.984...  \n",
      "3  [0.8984623551368713, -0.8326156139373779, -0.2...  \n",
      "4  [0.9542249441146851, -0.9845311045646667, -0.3...  \n",
      "                                                   0\n",
      "0  [0.998444139957428, -0.8373915553092957, 0.986...\n",
      "1  [0.7481085658073425, -0.7000635266304016, 0.99...\n",
      "2  [-0.7953892350196838, -0.9981173276901245, 0.9...\n",
      "3  [-0.13724015653133392, -0.3098432421684265, 0....\n",
      "4  [0.6646730303764343, -0.8491336703300476, -0.9...\n"
     ]
    }
   ],
   "source": [
    "cnn_samples = pd.read_csv('cnn_samples-54b19b96f3c0775b116bad527df8c7b5.csv')\n",
    "gov_samples = pd.read_csv('federal_samples-a586d0681e005629453435bea5b173eb.csv')\n",
    "print(cnn_samples.head())\n",
    "print(gov_samples.head())\n",
    "\n",
    "cnn_samples1 = pd.DataFrame(cnn_samples['embedding'].values.tolist())\n",
    "print (cnn_samples1.head())\n",
    "\n",
    "#cnn_samples.apply(axis = 'columns', result_type = 'expand')"
   ]
  },
  {
   "cell_type": "code",
   "execution_count": null,
   "metadata": {},
   "outputs": [],
   "source": []
  }
 ],
 "metadata": {
  "kernelspec": {
   "display_name": "Python 3",
   "language": "python",
   "name": "python3"
  },
  "language_info": {
   "codemirror_mode": {
    "name": "ipython",
    "version": 3
   },
   "file_extension": ".py",
   "mimetype": "text/x-python",
   "name": "python",
   "nbconvert_exporter": "python",
   "pygments_lexer": "ipython3",
   "version": "3.7.3"
  }
 },
 "nbformat": 4,
 "nbformat_minor": 2
}
